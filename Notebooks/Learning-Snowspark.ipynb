{
 "cells": [
  {
   "cell_type": "code",
   "execution_count": 5,
   "id": "c6f033c3-e522-4d40-84ec-1fc0182d6d0a",
   "metadata": {},
   "outputs": [],
   "source": [
    "from snowflake.snowpark import Session\n",
    "from snowflake.snowpark.functions import col\n",
    "from configparser import ConfigParser"
   ]
  },
  {
   "cell_type": "code",
   "execution_count": 9,
   "id": "38d8f848-a0c1-498d-a77c-bbfd2b67c441",
   "metadata": {},
   "outputs": [],
   "source": [
    "config = ConfigParser()\n",
    "config.read('../.config.ini')\n",
    "\n",
    "source_config = {\n",
    "    'account': config.get('DATABASE', 'ACCOUNT_IDENTIFIER'),\n",
    "    \"user\": config.get(\"DATABASE\", \"USERNAME\"),\n",
    "    \"password\": config.get(\"DATABASE\", \"PASSWORD\"),\n",
    "    \"warehouse\": \"COMPUTE_WH\",\n",
    "    \"database\": config.get(\"DATABASE\", \"SOURCE\"),\n",
    "    \"schema\": \"TRANSACTIONS\"\n",
    "}"
   ]
  },
  {
   "cell_type": "code",
   "execution_count": 10,
   "id": "e2257a9e-d800-456f-95cb-466a7b0882c2",
   "metadata": {},
   "outputs": [],
   "source": [
    "source = Session.builder.configs(source_config).create()"
   ]
  },
  {
   "cell_type": "code",
   "execution_count": 18,
   "id": "274ece75-7e5a-4e8a-bc79-e8cf58705569",
   "metadata": {},
   "outputs": [
    {
     "name": "stdout",
     "output_type": "stream",
     "text": [
      "---------------------------------------------------------------------------------------------------------------\n",
      "|\"ID\"  |\"STORE_ID\"  |\"PRODUCT_ID\"  |\"CUSTOMER_ID\"  |\"TRANSACTION_TIME\"   |\"QUANTITY\"  |\"AMOUNT\"  |\"DISCOUNT\"  |\n",
      "---------------------------------------------------------------------------------------------------------------\n",
      "|1     |3           |17            |2              |2021-11-11 13:39:14  |12          |28196.55  |2819.66     |\n",
      "|2     |4           |15            |5              |2021-11-10 13:23:01  |9           |18034.61  |901.73      |\n",
      "|3     |2           |11            |5              |2020-12-12 22:48:06  |11          |19433.22  |971.66      |\n",
      "|4     |2           |1             |3              |2021-12-13 06:27:49  |6           |3623.98   |181.20      |\n",
      "|5     |4           |4             |NULL           |2021-12-10 21:03:17  |3           |10707.11  |535.36      |\n",
      "|6     |2           |14            |3              |2020-11-13 09:41:33  |5           |1857.95   |92.90       |\n",
      "|7     |2           |12            |1              |2020-10-13 01:36:26  |15          |20792.43  |2079.24     |\n",
      "|8     |4           |13            |6              |2021-12-13 11:21:07  |12          |25160.25  |2516.03     |\n",
      "|9     |2           |3             |1              |2020-11-10 05:22:19  |10          |25718.20  |2571.82     |\n",
      "|10    |1           |15            |NULL           |2021-10-10 08:58:16  |10          |17857.01  |892.85      |\n",
      "---------------------------------------------------------------------------------------------------------------\n",
      "\n"
     ]
    }
   ],
   "source": [
    "df = source.table('SALES')\n",
    "df.show()"
   ]
  },
  {
   "cell_type": "code",
   "execution_count": 20,
   "id": "80c5fff6-bc4e-4ab0-b950-be4137fcaa38",
   "metadata": {},
   "outputs": [
    {
     "data": {
      "text/plain": [
       "100"
      ]
     },
     "execution_count": 20,
     "metadata": {},
     "output_type": "execute_result"
    }
   ],
   "source": [
    "df.count()"
   ]
  },
  {
   "cell_type": "code",
   "execution_count": null,
   "id": "fd500331-2f0d-4544-827b-fd15abf4953d",
   "metadata": {},
   "outputs": [],
   "source": []
  }
 ],
 "metadata": {
  "kernelspec": {
   "display_name": "Python 3 (ipykernel)",
   "language": "python",
   "name": "python3"
  },
  "language_info": {
   "codemirror_mode": {
    "name": "ipython",
    "version": 3
   },
   "file_extension": ".py",
   "mimetype": "text/x-python",
   "name": "python",
   "nbconvert_exporter": "python",
   "pygments_lexer": "ipython3",
   "version": "3.8.7"
  }
 },
 "nbformat": 4,
 "nbformat_minor": 5
}
